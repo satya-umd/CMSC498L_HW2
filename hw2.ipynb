{
 "cells": [
  {
   "cell_type": "markdown",
   "metadata": {
    "colab_type": "text",
    "id": "HdxUBZUHYZxa"
   },
   "source": [
    "In the first part, you will implement all the functions required to build a two layer neural network.\n",
    "In the next part, you will use these functions for image and text classification. Provide your code at the appropriate placeholders."
   ]
  },
  {
   "cell_type": "markdown",
   "metadata": {
    "colab_type": "text",
    "id": "g074-ZCaYZxd"
   },
   "source": [
    "## 1. Packages"
   ]
  },
  {
   "cell_type": "code",
   "execution_count": 171,
   "metadata": {
    "colab": {},
    "colab_type": "code",
    "id": "nAxR-M4fYZxg"
   },
   "outputs": [],
   "source": [
    "import numpy as np\n",
    "import matplotlib.pyplot as plt\n",
    "import h5py\n",
    "import scipy\n",
    "from PIL import Image\n",
    "from scipy import ndimage"
   ]
  },
  {
   "cell_type": "markdown",
   "metadata": {
    "colab_type": "text",
    "id": "HfH8OcwXYZxx"
   },
   "source": [
    "## 2. Layer Initialization"
   ]
  },
  {
   "cell_type": "markdown",
   "metadata": {
    "colab_type": "text",
    "id": "XNQZF4ahYZxy"
   },
   "source": [
    "**Exercise:** Create and initialize the parameters of the 2-layer neural network. Use random initialization for the weight metrices and zero initialization for the biases."
   ]
  },
  {
   "cell_type": "code",
   "execution_count": 172,
   "metadata": {
    "colab": {},
    "colab_type": "code",
    "id": "zKV7l8XgYZx1"
   },
   "outputs": [],
   "source": [
    "def initialize_parameters(n_x, n_h, n_y):\n",
    "    \"\"\"\n",
    "    Argument:\n",
    "    n_x -- size of the input layer\n",
    "    n_h -- size of the hidden layer\n",
    "    n_y -- size of the output layer\n",
    "    \n",
    "    Returns:\n",
    "    parameters -- python dictionary containing your parameters:\n",
    "                    W1 -- weight matrix of shape (n_h, n_x)\n",
    "                    b1 -- bias vector of shape (n_h, 1)\n",
    "                    W2 -- weight matrix of shape (n_y, n_h)\n",
    "                    b2 -- bias vector of shape (n_y, 1)\n",
    "    \"\"\"\n",
    "    \n",
    "    np.random.seed(1)\n",
    "    \n",
    "    ### START CODE HERE ### (≈ 4 lines of code)\n",
    "    W1 = np.random.randn(n_h, n_x) * 0.01\n",
    "#   W1 = np.random.randn(n_h, n_x) / np.sqrt(2/n_h)\n",
    "    b1 = np.random.randn(n_h, 1) * 0.01\n",
    "    W2 = np.random.randn(n_y, n_h) * 0.01\n",
    "#   W2 = np.random.randn(n_y, n_h) / np.sqrt(2/n_y)\n",
    "    b2 = np.random.randn(n_y, 1) * 0.01\n",
    "    ### END CODE HERE ###\n",
    "    \n",
    "    assert(W1.shape == (n_h, n_x))\n",
    "    assert(b1.shape == (n_h, 1))\n",
    "    assert(W2.shape == (n_y, n_h))\n",
    "    assert(b2.shape == (n_y, 1))\n",
    "    \n",
    "    parameters = {\"W1\": W1,\n",
    "                  \"b1\": b1,\n",
    "                  \"W2\": W2,\n",
    "                  \"b2\": b2}\n",
    "    \n",
    "    return parameters"
   ]
  },
  {
   "cell_type": "code",
   "execution_count": 173,
   "metadata": {
    "colab": {
     "base_uri": "https://localhost:8080/",
     "height": 119
    },
    "colab_type": "code",
    "id": "VNtaUqqwYZx8",
    "outputId": "1622e792-222c-49fb-9ca0-cd5864749cf5"
   },
   "outputs": [
    {
     "name": "stdout",
     "output_type": "stream",
     "text": [
      "W1 = [[ 0.01624345 -0.00611756 -0.00528172]\n",
      " [-0.01072969  0.00865408 -0.02301539]]\n",
      "b1 = [[ 0.01744812]\n",
      " [-0.00761207]]\n",
      "W2 = [[ 0.00319039 -0.0024937 ]]\n",
      "b2 = [[0.01462108]]\n"
     ]
    }
   ],
   "source": [
    "parameters = initialize_parameters(3,2,1)\n",
    "print(\"W1 = \" + str(parameters[\"W1\"]))\n",
    "print(\"b1 = \" + str(parameters[\"b1\"]))\n",
    "print(\"W2 = \" + str(parameters[\"W2\"]))\n",
    "print(\"b2 = \" + str(parameters[\"b2\"]))"
   ]
  },
  {
   "cell_type": "markdown",
   "metadata": {
    "colab_type": "text",
    "id": "gJ3e1_gQYZyD"
   },
   "source": [
    "**Expected output**:\n",
    "       \n",
    "<table style=\"width:80%\">\n",
    "  <tr>\n",
    "    <td> **W1** </td>\n",
    "    <td> [[ 0.01624345 -0.00611756 -0.00528172]\n",
    " [-0.01072969  0.00865408 -0.02301539]] </td> \n",
    "  </tr>\n",
    "\n",
    "  <tr>\n",
    "    <td> **b1**</td>\n",
    "    <td>[[ 0.]\n",
    " [ 0.]]</td> \n",
    "  </tr>\n",
    "  \n",
    "  <tr>\n",
    "    <td>**W2**</td>\n",
    "    <td> [[ 0.01744812 -0.00761207]]</td>\n",
    "  </tr>\n",
    "  \n",
    "  <tr>\n",
    "    <td> **b2** </td>\n",
    "    <td> [[ 0.]] </td> \n",
    "  </tr>\n",
    "  \n",
    "</table>"
   ]
  },
  {
   "cell_type": "markdown",
   "metadata": {
    "colab_type": "text",
    "id": "-yVq8aytYZyE"
   },
   "source": [
    "## 3. Forward Propagation"
   ]
  },
  {
   "cell_type": "markdown",
   "metadata": {
    "colab_type": "text",
    "id": "a2J_cmAlYZyG"
   },
   "source": [
    "Now that you have initialized your parameters, you will do the forward propagation module. You will start by implementing some basic functions that you will use later when implementing the model. You will complete three functions in this order:\n",
    "\n",
    "- LINEAR\n",
    "- LINEAR -> ACTIVATION where ACTIVATION will be either ReLU or Sigmoid.\n",
    "\n",
    "The linear module computes the following equation:\n",
    "\n",
    "$$Z = WA+b\\tag{4}$$\n",
    "\n",
    "### 3.1 Exercise: Build the linear part of forward propagation."
   ]
  },
  {
   "cell_type": "code",
   "execution_count": 174,
   "metadata": {
    "colab": {},
    "colab_type": "code",
    "id": "N_vvUEhgYZyI"
   },
   "outputs": [],
   "source": [
    "def linear_forward(A, W, b):\n",
    "    \"\"\"\n",
    "    Implement the linear part of a layer's forward propagation.\n",
    "\n",
    "    Arguments:\n",
    "    A -- activations from previous layer (or input data): (size of previous layer, number of examples)\n",
    "    W -- weights matrix: numpy array of shape (size of current layer, size of previous layer)\n",
    "    b -- bias vector, numpy array of shape (size of the current layer, 1)\n",
    "\n",
    "    Returns:\n",
    "    Z -- the input of the activation function, also called pre-activation parameter \n",
    "    cache -- a python dictionary containing \"A\", \"W\" and \"b\" ; stored for computing the backward pass efficiently\n",
    "    \"\"\"\n",
    "    \n",
    "    ### START CODE HERE ### (≈ 1 line of code)\n",
    "    Z = np.matmul(W, A) + b\n",
    "    ### END CODE HERE ###\n",
    "    \n",
    "    assert(Z.shape == (W.shape[0], A.shape[1]))\n",
    "    cache = (A, W, b)\n",
    "    \n",
    "    return Z, cache"
   ]
  },
  {
   "cell_type": "code",
   "execution_count": 175,
   "metadata": {
    "colab": {
     "base_uri": "https://localhost:8080/",
     "height": 34
    },
    "colab_type": "code",
    "id": "KgHAjrYnYZyN",
    "outputId": "28987f4d-ad8b-48ac-d397-9c38f9317c8f"
   },
   "outputs": [
    {
     "name": "stdout",
     "output_type": "stream",
     "text": [
      "Z = [[ 3.26295337 -1.23429987]]\n"
     ]
    }
   ],
   "source": [
    "np.random.seed(1)\n",
    "\n",
    "A = np.random.randn(3,2)\n",
    "W = np.random.randn(1,3)\n",
    "b = np.random.randn(1,1)\n",
    "\n",
    "Z, linear_cache = linear_forward(A, W, b)\n",
    "print(\"Z = \" + str(Z))"
   ]
  },
  {
   "cell_type": "markdown",
   "metadata": {
    "colab_type": "text",
    "id": "zabLDLO7YZyS"
   },
   "source": [
    "**Expected output**:\n",
    "\n",
    "<table style=\"width:35%\">\n",
    "  \n",
    "  <tr>\n",
    "    <td> **Z** </td>\n",
    "    <td> [[ 3.26295337 -1.23429987]] </td> \n",
    "  </tr>\n",
    "  \n",
    "</table>"
   ]
  },
  {
   "cell_type": "markdown",
   "metadata": {
    "colab_type": "text",
    "id": "FuvHoBY3YZyU"
   },
   "source": [
    "### 3.2 - Linear-Activation Forward\n",
    "\n",
    "In this notebook, you will use two activation functions:\n",
    "\n",
    "- **Sigmoid**: $\\sigma(Z) = \\sigma(W A + b) = \\frac{1}{ 1 + e^{-(W A + b)}}$. Write the code for the `sigmoid` function. This function returns **two** items: the activation value \"`a`\" and a \"`cache`\" that contains \"`Z`\" (it's what we will feed in to the corresponding backward function). To use it you could just call: \n",
    "``` python\n",
    "A, activation_cache = sigmoid(Z)\n",
    "```\n",
    "\n",
    "- **ReLU**: The mathematical formula for ReLu is $A = RELU(Z) = max(0, Z)$. Write the code for the  `relu` function. This function returns **two** items: the activation value \"`A`\" and a \"`cache`\" that contains \"`Z`\" (it's what we will feed in to the corresponding backward function). To use it you could just call:\n",
    "``` python\n",
    "A, activation_cache = relu(Z)\n",
    "\n",
    "**Exercise**: \n",
    "- Implement the activation functions\n",
    "- Build the linear activation part of forward propagation. Mathematical relation is: $A = g(Z) = g(WA_{prev} +b)$"
   ]
  },
  {
   "cell_type": "code",
   "execution_count": 176,
   "metadata": {
    "colab": {},
    "colab_type": "code",
    "id": "h6m2FIEzYZyZ"
   },
   "outputs": [],
   "source": [
    "def sigmoid(Z):\n",
    "    \"\"\"\n",
    "    Implements the sigmoid activation in numpy\n",
    "    \n",
    "    Arguments:\n",
    "    Z -- numpy array of any shape\n",
    "    \n",
    "    Returns:\n",
    "    A -- output of sigmoid(z), same shape as Z\n",
    "    cache -- returns Z, useful during backpropagation\n",
    "    \"\"\"\n",
    "    ### START CODE HERE ### (≈ 2 line of code)\n",
    "    A = 1 / (1 + np.exp(-Z))\n",
    "    cache = Z\n",
    "    ### END CODE HERE ###\n",
    "    \n",
    "    return A, cache\n",
    "\n",
    "def relu(Z):\n",
    "    \"\"\"\n",
    "    Implement the RELU function.\n",
    "\n",
    "    Arguments:\n",
    "    Z -- Output of the linear layer, of any shape\n",
    "\n",
    "    Returns:\n",
    "    A -- Post-activation parameter, of the same shape as Z\n",
    "    cache --  returns Z, useful during backpropagation\n",
    "    \"\"\"\n",
    "    \n",
    "    ### START CODE HERE ### (≈ 2 line of code)\n",
    "    A = np.maximum(Z, 0)\n",
    "    cache = Z\n",
    "    ### END CODE HERE ###\n",
    "    \n",
    "    assert(A.shape == Z.shape) \n",
    "    return A, cache"
   ]
  },
  {
   "cell_type": "code",
   "execution_count": 177,
   "metadata": {
    "colab": {},
    "colab_type": "code",
    "id": "w8xX_GDzYZyo"
   },
   "outputs": [],
   "source": [
    "def linear_activation_forward(A_prev, W, b, activation):\n",
    "    \"\"\"\n",
    "    Implement the forward propagation for the LINEAR->ACTIVATION layer\n",
    "\n",
    "    Arguments:\n",
    "    A_prev -- activations from previous layer (or input data): (size of previous layer, number of examples)\n",
    "    W -- weights matrix: numpy array of shape (size of current layer, size of previous layer)\n",
    "    b -- bias vector, numpy array of shape (size of the current layer, 1)\n",
    "    activation -- the activation to be used in this layer, stored as a text string: \"sigmoid\" or \"relu\"\n",
    "\n",
    "    Returns:\n",
    "    A -- the output of the activation function, also called the post-activation value \n",
    "    cache -- a python dictionary containing \"linear_cache\" and \"activation_cache\";\n",
    "             stored for computing the backward pass efficiently\n",
    "    \"\"\"\n",
    "    \n",
    "    if activation == \"sigmoid\":\n",
    "        # Inputs: \"A_prev, W, b\". Outputs: \"A, activation_cache\".\n",
    "        ### START CODE HERE ### (≈ 2 lines of code)\n",
    "        Z,linear_cache = linear_forward(A_prev, W, b)\n",
    "        A, activation_cache = sigmoid(Z)\n",
    "        ### END CODE HERE ###\n",
    "    \n",
    "    elif activation == \"relu\":\n",
    "        # Inputs: \"A_prev, W, b\". Outputs: \"A, activation_cache\".\n",
    "        ### START CODE HERE ### (≈ 2 lines of code)\n",
    "        Z,linear_cache = linear_forward(A_prev, W, b)\n",
    "        A, activation_cache = relu(Z)\n",
    "        ### END CODE HERE ###\n",
    "    \n",
    "    assert (A.shape == (W.shape[0], A_prev.shape[1]))\n",
    "    cache = (linear_cache, activation_cache)\n",
    "\n",
    "    return A, cache"
   ]
  },
  {
   "cell_type": "code",
   "execution_count": 178,
   "metadata": {
    "colab": {
     "base_uri": "https://localhost:8080/",
     "height": 51
    },
    "colab_type": "code",
    "id": "9_pJj8ekYZyv",
    "outputId": "be3f8c15-c581-4e94-90af-06b179a617e0"
   },
   "outputs": [
    {
     "name": "stdout",
     "output_type": "stream",
     "text": [
      "With sigmoid: A = [[0.96890023 0.11013289]]\n",
      "With ReLU: A = [[3.43896131 0.        ]]\n"
     ]
    }
   ],
   "source": [
    "np.random.seed(2)\n",
    "A_prev = np.random.randn(3,2)\n",
    "W = np.random.randn(1,3)\n",
    "b = np.random.randn(1,1)\n",
    "\n",
    "A, linear_activation_cache = linear_activation_forward(A_prev, W, b, activation = \"sigmoid\")\n",
    "print(\"With sigmoid: A = \" + str(A))\n",
    "\n",
    "A, linear_activation_cache = linear_activation_forward(A_prev, W, b, activation = \"relu\")\n",
    "print(\"With ReLU: A = \" + str(A))"
   ]
  },
  {
   "cell_type": "markdown",
   "metadata": {
    "colab_type": "text",
    "id": "0RDyEfWuYZy0"
   },
   "source": [
    "**Expected output**:\n",
    "       \n",
    "<table style=\"width:35%\">\n",
    "  <tr>\n",
    "    <td> **With sigmoid: A ** </td>\n",
    "    <td > [[ 0.96890023  0.11013289]]</td> \n",
    "  </tr>\n",
    "  <tr>\n",
    "    <td> **With ReLU: A ** </td>\n",
    "    <td > [[ 3.43896131  0.        ]]</td> \n",
    "  </tr>\n",
    "</table>\n"
   ]
  },
  {
   "cell_type": "markdown",
   "metadata": {
    "colab_type": "text",
    "id": "4xiCEonlYZy3"
   },
   "source": [
    "## 4 - Cost function\n",
    "\n",
    "Now you will implement forward and backward propagation. You need to compute the cost, because you want to check if your model is actually learning.\n",
    "\n",
    "**Exercise**: Compute the cross-entropy cost $J$, using the following formula: $$-\\frac{1}{m} \\sum\\limits_{i = 1}^{m} (y^{(i)}\\log\\left(a^{ (i)}\\right) + (1-y^{(i)})\\log\\left(1- a^{(i)}\\right)) \\tag{7}$$"
   ]
  },
  {
   "cell_type": "code",
   "execution_count": 179,
   "metadata": {
    "colab": {},
    "colab_type": "code",
    "id": "lF7_XF8oYZy4"
   },
   "outputs": [],
   "source": [
    "# GRADED FUNCTION: compute_cost\n",
    "\n",
    "def compute_cost(A, Y):\n",
    "    \"\"\"\n",
    "    Implement the cost function defined by equation (7).\n",
    "\n",
    "    Arguments:\n",
    "    A -- probability vector corresponding to your label predictions, shape (1, number of examples)\n",
    "    Y -- true \"label\" vector (for example: containing 0 if non-cat, 1 if cat), shape (1, number of examples)\n",
    "\n",
    "    Returns:\n",
    "    cost -- cross-entropy cost\n",
    "    \"\"\"\n",
    "    \n",
    "    m = Y.shape[1]\n",
    "\n",
    "    # Compute loss from aL and y.\n",
    "    ### START CODE HERE ### (≈ 1 lines of code)\n",
    "    result = (np.matmul(Y, np.log(A).transpose()) + np.matmul((1-Y), np.log(1-A).transpose()))\n",
    "    cost=-(result/m)\n",
    "    ### END CODE HERE ###\n",
    "    \n",
    "    cost = np.squeeze(cost)      # To make sure your cost's shape is what we expect (e.g. this turns [[17]] into 17).\n",
    "    assert(cost.shape == ())\n",
    "    \n",
    "    return cost"
   ]
  },
  {
   "cell_type": "code",
   "execution_count": 180,
   "metadata": {
    "colab": {
     "base_uri": "https://localhost:8080/",
     "height": 34
    },
    "colab_type": "code",
    "id": "go3-m8psYZy-",
    "outputId": "9be1fd8c-c4ac-48f6-84b4-197f36c35f7b"
   },
   "outputs": [
    {
     "name": "stdout",
     "output_type": "stream",
     "text": [
      "cost = 0.414931599615397\n"
     ]
    }
   ],
   "source": [
    "Y = np.asarray([[1, 1, 1]])\n",
    "A = np.array([[.8,.9,0.4]])\n",
    "\n",
    "print(\"cost = \" + str(compute_cost(A, Y)))"
   ]
  },
  {
   "cell_type": "markdown",
   "metadata": {
    "colab_type": "text",
    "id": "-N6w_ohPYZzB"
   },
   "source": [
    "**Expected Output**:\n",
    "\n",
    "<table>\n",
    "    <tr>\n",
    "    <td>**cost** </td>\n",
    "    <td> 0.41493159961539694</td> \n",
    "    </tr>\n",
    "</table>"
   ]
  },
  {
   "cell_type": "markdown",
   "metadata": {
    "colab_type": "text",
    "id": "hzV1Zb5SYZzC"
   },
   "source": [
    "## 5 - Backward propagation module\n",
    "\n",
    "Just like with forward propagation, you will implement helper functions for backpropagation. Remember that back propagation is used to calculate the gradient of the loss function with respect to the parameters. \n",
    "\n",
    "Now, similar to forward propagation, you are going to build the backward propagation in two steps:\n",
    "- LINEAR backward\n",
    "- LINEAR -> ACTIVATION backward where ACTIVATION computes the derivative of either the ReLU or sigmoid activation\n",
    "\n",
    "### 5.1 - Linear backward"
   ]
  },
  {
   "cell_type": "code",
   "execution_count": 181,
   "metadata": {
    "colab": {},
    "colab_type": "code",
    "id": "kmb6KMD1YZzD"
   },
   "outputs": [],
   "source": [
    "# GRADED FUNCTION: linear_backward\n",
    "\n",
    "def linear_backward(dZ, cache):\n",
    "    \"\"\"\n",
    "    Implement the linear portion of backward propagation for a single layer (layer l)\n",
    "\n",
    "    Arguments:\n",
    "    dZ -- Gradient of the cost with respect to the linear output (of current layer l)\n",
    "    cache -- tuple of values (A_prev, W, b) coming from the forward propagation in the current layer\n",
    "\n",
    "    Returns:\n",
    "    dA_prev -- Gradient of the cost with respect to the activation (of the previous layer l-1), same shape as A_prev\n",
    "    dW -- Gradient of the cost with respect to W (current layer l), same shape as W\n",
    "    db -- Gradient of the cost with respect to b (current layer l), same shape as b\n",
    "    \"\"\"\n",
    "    A_prev, W, b = cache\n",
    "    m = A_prev.shape[1]\n",
    "\n",
    "    ### START CODE HERE ### (≈ 3 lines of code)\n",
    "    dA_prev = np.matmul(W.transpose(), dZ)\n",
    "    dW = (1. / m) * np.matmul(dZ,A_prev.transpose())\n",
    "    db = (1. / m) * np.sum(dZ,axis = 1,keepdims = True)\n",
    "    ### END CODE HERE ###\n",
    "    \n",
    "    assert (dA_prev.shape == A_prev.shape)\n",
    "    assert (dW.shape == W.shape)\n",
    "    assert (db.shape == b.shape)\n",
    "    \n",
    "    return dA_prev, dW, db"
   ]
  },
  {
   "cell_type": "code",
   "execution_count": 182,
   "metadata": {
    "colab": {
     "base_uri": "https://localhost:8080/",
     "height": 102
    },
    "colab_type": "code",
    "id": "RVmx4hAwYZzG",
    "outputId": "8f2b721e-f148-4a39-b76d-03618f58cd82"
   },
   "outputs": [
    {
     "name": "stdout",
     "output_type": "stream",
     "text": [
      "dA_prev = [[ 0.51822968 -0.19517421]\n",
      " [-0.40506361  0.15255393]\n",
      " [ 2.37496825 -0.89445391]]\n",
      "dW = [[-0.10076895  1.40685096  1.64992505]]\n",
      "db = [[0.50629448]]\n"
     ]
    }
   ],
   "source": [
    "np.random.seed(1)\n",
    "dZ = np.random.randn(1,2)\n",
    "A = np.random.randn(3,2)\n",
    "W = np.random.randn(1,3)\n",
    "b = np.random.randn(1,1)\n",
    "linear_cache = (A, W, b)\n",
    "\n",
    "dA_prev, dW, db = linear_backward(dZ, linear_cache)\n",
    "print (\"dA_prev = \"+ str(dA_prev))\n",
    "print (\"dW = \" + str(dW))\n",
    "print (\"db = \" + str(db))"
   ]
  },
  {
   "cell_type": "markdown",
   "metadata": {
    "colab_type": "text",
    "id": "xcd48ooaYZzI"
   },
   "source": [
    "**Expected Output**: \n",
    "\n",
    "<table style=\"width:90%\">\n",
    "  <tr>\n",
    "    <td> **dA_prev** </td>\n",
    "    <td > [[ 0.51822968 -0.19517421]\n",
    " [-0.40506361  0.15255393]\n",
    " [ 2.37496825 -0.89445391]] </td> \n",
    "  </tr> \n",
    "    <tr>\n",
    "        <td> **dW** </td>\n",
    "        <td > [[-0.10076895  1.40685096  1.64992505]] </td> \n",
    "    </tr> \n",
    "    <tr>\n",
    "        <td> **db** </td>\n",
    "        <td> [[ 0.50629448]] </td> \n",
    "    </tr>     \n",
    "</table>"
   ]
  },
  {
   "cell_type": "markdown",
   "metadata": {
    "colab_type": "text",
    "id": "wyvpOxl0YZzJ"
   },
   "source": [
    "### 5.2 - Linear Activation backward\n",
    "\n",
    "Next, you will create a function that merges the two helper functions: **`linear_backward`** and the backward step for the activation **`linear_activation_backward`**. \n",
    "\n",
    "Before implementing `linear_activation_backward`, you need to implement two backward functions for each activations:\n",
    "- **`sigmoid_backward`**: Implements the backward propagation for SIGMOID unit. You can call it as follows:\n",
    "\n",
    "```python\n",
    "dZ = sigmoid_backward(dA, activation_cache)\n",
    "```\n",
    "\n",
    "- **`relu_backward`**: Implements the backward propagation for RELU unit. You can call it as follows:\n",
    "\n",
    "```python\n",
    "dZ = relu_backward(dA, activation_cache)\n",
    "```\n",
    "\n",
    "If $g(.)$ is the activation function, \n",
    "`sigmoid_backward` and `relu_backward` compute $$dZ^{[l]} = dA^{[l]} * g'(Z^{[l]}) \\tag{11}$$.  \n",
    "\n",
    "**Exercise**: \n",
    "- Implement the backward functions for the relu and sigmoid activation layer.\n",
    "- Implement the backpropagation for the *LINEAR->ACTIVATION* layer."
   ]
  },
  {
   "cell_type": "code",
   "execution_count": 183,
   "metadata": {
    "colab": {},
    "colab_type": "code",
    "id": "X4UAztW4YZzK"
   },
   "outputs": [],
   "source": [
    "def relu_backward(dA, cache):\n",
    "    \"\"\"\n",
    "    Implement the backward propagation for a single RELU unit.\n",
    "\n",
    "    Arguments:\n",
    "    dA -- post-activation gradient, of any shape\n",
    "    cache -- 'Z' where we store for computing backward propagation efficiently\n",
    "\n",
    "    Returns:\n",
    "    dZ -- Gradient of the cost with respect to Z\n",
    "    \"\"\"\n",
    "    \n",
    "    Z = cache\n",
    "    dZ = np.array(dA, copy=True) # just converting dz to a correct object.\n",
    "    \n",
    "    ### START CODE HERE ### (≈ 1 line of code)\n",
    "    dZ[Z<0] = 0\n",
    "    ### END CODE HERE ###\n",
    "    \n",
    "    assert (dZ.shape == Z.shape)\n",
    "    \n",
    "    return dZ\n",
    "\n",
    "def sigmoid_backward(dA, cache):\n",
    "    \"\"\"\n",
    "    Implement the backward propagation for a single SIGMOID unit.\n",
    "\n",
    "    Arguments:\n",
    "    dA -- post-activation gradient, of any shape\n",
    "    cache -- 'Z' where we store for computing backward propagation efficiently\n",
    "\n",
    "    Returns:\n",
    "    dZ -- Gradient of the cost with respect to Z\n",
    "    \"\"\"\n",
    "    \n",
    "    Z = cache\n",
    "    \n",
    "    ### START CODE HERE ### (≈ 2 line of code)\n",
    "    dZ = dA * np.exp(-Z) /np.square(1+np.exp(-Z))\n",
    "    ### END CODE HERE ###\n",
    "    \n",
    "    assert (dZ.shape == Z.shape)\n",
    "    \n",
    "    return dZ\n"
   ]
  },
  {
   "cell_type": "code",
   "execution_count": 184,
   "metadata": {
    "colab": {},
    "colab_type": "code",
    "id": "S2m_UobgYZzM"
   },
   "outputs": [],
   "source": [
    "# GRADED FUNCTION: linear_activation_backward\n",
    "\n",
    "def linear_activation_backward(dA, cache, activation):\n",
    "    \"\"\"\n",
    "    Implement the backward propagation for the LINEAR->ACTIVATION layer.\n",
    "    \n",
    "    Arguments:\n",
    "    dA -- post-activation gradient for current layer l \n",
    "    cache -- tuple of values (linear_cache, activation_cache) we store for computing backward propagation efficiently\n",
    "    activation -- the activation to be used in this layer, stored as a text string: \"sigmoid\" or \"relu\"\n",
    "    \n",
    "    Returns:\n",
    "    dA_prev -- Gradient of the cost with respect to the activation (of the previous layer l-1), same shape as A_prev\n",
    "    dW -- Gradient of the cost with respect to W (current layer l), same shape as W\n",
    "    db -- Gradient of the cost with respect to b (current layer l), same shape as b\n",
    "    \"\"\"\n",
    "    linear_cache, activation_cache = cache\n",
    "    \n",
    "    if activation == \"relu\":\n",
    "        ### START CODE HERE ### (≈ 2 lines of code)\n",
    "        dZ = relu_backward(dA, activation_cache)\n",
    "        dA_prev, dW, db = linear_backward(dZ, linear_cache)\n",
    "        ### END CODE HERE ###\n",
    "        \n",
    "    elif activation == \"sigmoid\":\n",
    "        ### START CODE HERE ### (≈ 2 lines of code)\n",
    "        dZ = sigmoid_backward(dA, activation_cache)\n",
    "        dA_prev, dW, db = linear_backward(dZ, linear_cache)\n",
    "        ### END CODE HERE ###\n",
    "    \n",
    "    return dA_prev, dW, db"
   ]
  },
  {
   "cell_type": "code",
   "execution_count": 185,
   "metadata": {
    "colab": {
     "base_uri": "https://localhost:8080/",
     "height": 238
    },
    "colab_type": "code",
    "id": "fU_-z41YYZzQ",
    "outputId": "db3c7b26-2cc0-47c8-d171-decbaed9bf2b"
   },
   "outputs": [
    {
     "name": "stdout",
     "output_type": "stream",
     "text": [
      "sigmoid:\n",
      "dA_prev = [[ 0.11017994  0.01105339]\n",
      " [ 0.09466817  0.00949723]\n",
      " [-0.05743092 -0.00576154]]\n",
      "dW = [[ 0.10266786  0.09778551 -0.01968084]]\n",
      "db = [[-0.05729622]]\n",
      "\n",
      "relu:\n",
      "dA_prev = [[ 0.44090989  0.        ]\n",
      " [ 0.37883606  0.        ]\n",
      " [-0.2298228   0.        ]]\n",
      "dW = [[ 0.44513824  0.37371418 -0.10478989]]\n",
      "db = [[-0.20837892]]\n"
     ]
    }
   ],
   "source": [
    "np.random.seed(2)\n",
    "dA = np.random.randn(1,2)\n",
    "A = np.random.randn(3,2)\n",
    "W = np.random.randn(1,3)\n",
    "b = np.random.randn(1,1)\n",
    "Z = np.random.randn(1,2)\n",
    "linear_cache = (A, W, b)\n",
    "activation_cache = Z\n",
    "linear_activation_cache = (linear_cache, activation_cache)\n",
    "\n",
    "dA_prev, dW, db = linear_activation_backward(dA, linear_activation_cache, activation = \"sigmoid\")\n",
    "print (\"sigmoid:\")\n",
    "print (\"dA_prev = \"+ str(dA_prev))\n",
    "print (\"dW = \" + str(dW))\n",
    "print (\"db = \" + str(db) + \"\\n\")\n",
    "\n",
    "dA_prev, dW, db = linear_activation_backward(dA, linear_activation_cache, activation = \"relu\")\n",
    "print (\"relu:\")\n",
    "print (\"dA_prev = \"+ str(dA_prev))\n",
    "print (\"dW = \" + str(dW))\n",
    "print (\"db = \" + str(db))"
   ]
  },
  {
   "cell_type": "markdown",
   "metadata": {
    "colab_type": "text",
    "id": "ruxsuJgOYZzT"
   },
   "source": [
    "**Expected output with sigmoid:**\n",
    "\n",
    "<table style=\"width:100%\">\n",
    "  <tr>\n",
    "    <td > dA_prev </td> \n",
    "           <td >[[ 0.11017994  0.01105339]\n",
    " [ 0.09466817  0.00949723]\n",
    " [-0.05743092 -0.00576154]] </td> \n",
    "  </tr> \n",
    "    <tr>\n",
    "    <td > dW </td> \n",
    "           <td > [[ 0.10266786  0.09778551 -0.01968084]] </td> \n",
    "  </tr> \n",
    "    <tr>\n",
    "    <td > db </td> \n",
    "           <td > [[-0.05729622]] </td> \n",
    "  </tr> \n",
    "</table>"
   ]
  },
  {
   "cell_type": "markdown",
   "metadata": {
    "colab_type": "text",
    "id": "DliwtUziYZzU"
   },
   "source": [
    "**Expected output with relu:**\n",
    "\n",
    "<table style=\"width:100%\">\n",
    "  <tr>\n",
    "    <td > dA_prev </td> \n",
    "           <td > [[ 0.44090989  0.        ]\n",
    " [ 0.37883606  0.        ]\n",
    " [-0.2298228   0.        ]] </td> \n",
    "  </tr> \n",
    "    <tr>\n",
    "    <td > dW </td> \n",
    "           <td > [[ 0.44513824  0.37371418 -0.10478989]] </td> \n",
    "  </tr> \n",
    "    <tr>\n",
    "    <td > db </td> \n",
    "           <td > [[-0.20837892]] </td> \n",
    "  </tr> \n",
    "</table>"
   ]
  },
  {
   "cell_type": "markdown",
   "metadata": {
    "colab_type": "text",
    "id": "fOGgwvYZYZzV"
   },
   "source": [
    "### 6 - Update Parameters\n",
    "\n",
    "In this section you will update the parameters of the model, using gradient descent: \n",
    "\n",
    "$$ W^{[1]} = W^{[1]} - \\alpha \\text{ } dW^{[1]} \\tag{16}$$\n",
    "$$ b^{[1]} = b^{[1]} - \\alpha \\text{ } db^{[1]} \\tag{17}$$\n",
    "$$ W^{[2]} = W^{[2]} - \\alpha \\text{ } dW^{[2} \\tag{16}$$\n",
    "$$ b^{[2]} = b^{[2]} - \\alpha \\text{ } db^{[2]} \\tag{17}$$\n",
    "\n",
    "where $\\alpha$ is the learning rate. After computing the updated parameters, store them in the parameters dictionary. \n",
    "\n",
    "**Exercise**: Implement `update_parameters()` to update your parameters using gradient descent.\n",
    "\n",
    "**Instructions**:\n",
    "Update parameters using gradient descent.\n"
   ]
  },
  {
   "cell_type": "code",
   "execution_count": 186,
   "metadata": {
    "colab": {},
    "colab_type": "code",
    "id": "YkyRJNLDYZzX"
   },
   "outputs": [],
   "source": [
    "# GRADED FUNCTION: update_parameters\n",
    "\n",
    "def update_parameters(parameters, grads, learning_rate):\n",
    "    \"\"\"\n",
    "    Update parameters using gradient descent\n",
    "    \n",
    "    Arguments:\n",
    "    parameters -- python dictionary containing your parameters \n",
    "    grads -- python dictionary containing your gradients, output of L_model_backward\n",
    "    \n",
    "    Returns:\n",
    "    parameters -- python dictionary containing your updated parameters \n",
    "                  parameters[\"W\" + str(l)] = ... \n",
    "                  parameters[\"b\" + str(l)] = ...\n",
    "    \"\"\"\n",
    "    # Update rule for each parameter. Use a for loop.\n",
    "    ### START CODE HERE ### (≈ 4 lines of code)\n",
    "    parameters[\"W1\"] = parameters[\"W1\"] - learning_rate * grads[\"dW1\"]\n",
    "    parameters[\"W2\"] = parameters[\"W2\"] - learning_rate * grads[\"dW2\"]\n",
    "    parameters[\"b1\"] = parameters[\"b1\"] - learning_rate * grads[\"db1\"]\n",
    "    parameters[\"b2\"] = parameters[\"b2\"] - learning_rate * grads[\"db2\"]\n",
    "    ### END CODE HERE ###\n",
    "    return parameters"
   ]
  },
  {
   "cell_type": "code",
   "execution_count": 187,
   "metadata": {
    "colab": {
     "base_uri": "https://localhost:8080/",
     "height": 153
    },
    "colab_type": "code",
    "id": "-_PshlD8YZzZ",
    "outputId": "4da98db1-af1d-4ed9-b4f2-099960526a60"
   },
   "outputs": [
    {
     "name": "stdout",
     "output_type": "stream",
     "text": [
      "W1 = [[-0.59562069 -0.09991781 -2.14584584  1.82662008]\n",
      " [-1.76569676 -0.80627147  0.51115557 -1.18258802]\n",
      " [-1.0535704  -0.86128581  0.68284052  2.20374577]]\n",
      "b1 = [[-0.04659241]\n",
      " [-1.28888275]\n",
      " [ 0.53405496]]\n",
      "W2 = [[-0.55569196  0.0354055   1.32964895]]\n",
      "b2 = [[-0.84610769]]\n"
     ]
    }
   ],
   "source": [
    "np.random.seed(2)\n",
    "W1 = np.random.randn(3,4)\n",
    "b1 = np.random.randn(3,1)\n",
    "W2 = np.random.randn(1,3)\n",
    "b2 = np.random.randn(1,1)\n",
    "parameters = {\"W1\": W1,\n",
    "              \"b1\": b1,\n",
    "              \"W2\": W2,\n",
    "              \"b2\": b2}\n",
    "np.random.seed(3)\n",
    "dW1 = np.random.randn(3,4)\n",
    "db1 = np.random.randn(3,1)\n",
    "dW2 = np.random.randn(1,3)\n",
    "db2 = np.random.randn(1,1)\n",
    "grads = {\"dW1\": dW1,\n",
    "         \"db1\": db1,\n",
    "         \"dW2\": dW2,\n",
    "         \"db2\": db2}\n",
    "parameters = update_parameters(parameters, grads, 0.1)\n",
    "\n",
    "print (\"W1 = \"+ str(parameters[\"W1\"]))\n",
    "print (\"b1 = \"+ str(parameters[\"b1\"]))\n",
    "print (\"W2 = \"+ str(parameters[\"W2\"]))\n",
    "print (\"b2 = \"+ str(parameters[\"b2\"]))"
   ]
  },
  {
   "cell_type": "markdown",
   "metadata": {
    "colab_type": "text",
    "id": "wEYm9H9VYZzc"
   },
   "source": [
    "**Expected Output**:\n",
    "\n",
    "<table style=\"width:100%\"> \n",
    "    <tr>\n",
    "    <td > W1 </td> \n",
    "           <td > [[-0.59562069 -0.09991781 -2.14584584  1.82662008]\n",
    " [-1.76569676 -0.80627147  0.51115557 -1.18258802]\n",
    " [-1.0535704  -0.86128581  0.68284052  2.20374577]] </td> \n",
    "  </tr> \n",
    "    <tr>\n",
    "    <td > b1 </td> \n",
    "           <td > [[-0.04659241]\n",
    " [-1.28888275]\n",
    " [ 0.53405496]] </td> \n",
    "  </tr> \n",
    "  <tr>\n",
    "    <td > W2 </td> \n",
    "           <td > [[-0.55569196  0.0354055   1.32964895]]</td> \n",
    "  </tr> \n",
    "    <tr>\n",
    "    <td > b2 </td> \n",
    "           <td > [[-0.84610769]] </td> \n",
    "  </tr> \n",
    "</table>\n"
   ]
  },
  {
   "cell_type": "markdown",
   "metadata": {
    "colab_type": "text",
    "id": "Fd5LQMQzYZzi"
   },
   "source": [
    "\n",
    "## 7 - Conclusion\n",
    "\n",
    "Congrats on implementing all the functions required for building a deep neural network! \n",
    "\n",
    "We know it was a long assignment but going forward it will only get better. The next part of the assignment is easier. \n",
    "\n"
   ]
  },
  {
   "cell_type": "markdown",
   "metadata": {
    "colab_type": "text",
    "id": "idza9J1XYZzj"
   },
   "source": [
    "# Part 2:\n",
    "\n",
    "In the next part you will put all these together to build a two-layer neural networks for image classification."
   ]
  },
  {
   "cell_type": "code",
   "execution_count": 188,
   "metadata": {
    "colab": {},
    "colab_type": "code",
    "id": "aa84Jq8BYZzk"
   },
   "outputs": [
    {
     "name": "stdout",
     "output_type": "stream",
     "text": [
      "The autoreload extension is already loaded. To reload it, use:\n",
      "  %reload_ext autoreload\n"
     ]
    }
   ],
   "source": [
    "%matplotlib inline\n",
    "plt.rcParams['figure.figsize'] = (5.0, 4.0) # set default size of plots\n",
    "plt.rcParams['image.interpolation'] = 'nearest'\n",
    "plt.rcParams['image.cmap'] = 'gray'\n",
    "\n",
    "%load_ext autoreload\n",
    "%autoreload 2\n",
    "\n",
    "np.random.seed(1)"
   ]
  },
  {
   "cell_type": "markdown",
   "metadata": {
    "colab_type": "text",
    "id": "U7eYmtnWYZzn"
   },
   "source": [
    "# Dataset"
   ]
  },
  {
   "cell_type": "markdown",
   "metadata": {
    "colab_type": "text",
    "id": "ZnPkLMC9YZzn"
   },
   "source": [
    "**Problem Statement**: You are given a dataset (\"data/train_catvnoncat.h5\", \"data/test_catvnoncat.h5\") containing:\n",
    "    - a training set of m_train images labelled as cat (1) or non-cat (0)\n",
    "    - a test set of m_test images labelled as cat and non-cat\n",
    "    - each image is of shape (num_px, num_px, 3) where 3 is for the 3 channels (RGB).\n",
    "\n",
    "Let's get more familiar with the dataset. Load the data by completing the function and run the cell below."
   ]
  },
  {
   "cell_type": "code",
   "execution_count": 189,
   "metadata": {
    "colab": {},
    "colab_type": "code",
    "id": "frELD0w2YZzo"
   },
   "outputs": [],
   "source": [
    "def load_data(train_file, test_file):\n",
    "    # Load the training data\n",
    "    train_dataset = h5py.File(train_file, 'r')\n",
    "    \n",
    "    # Separate features(x) and labels(y) for training set\n",
    "    train_set_x_orig = train_dataset[\"train_set_x\"].value\n",
    "    train_set_y_orig = train_dataset[\"train_set_y\"].value\n",
    "\n",
    "    # Load the test data\n",
    "    test_dataset = h5py.File(test_file, 'r')\n",
    "    \n",
    "    # Separate features(x) and labels(y) for training set\n",
    "    test_set_x_orig = test_dataset[\"test_set_x\"].value\n",
    "    test_set_y_orig = test_dataset[\"test_set_y\"].value\n",
    "\n",
    "    classes = np.array(test_dataset[\"list_classes\"][:]) # the list of classes\n",
    "    \n",
    "    train_set_y_orig = train_set_y_orig.reshape((1, train_set_y_orig.shape[0]))\n",
    "    test_set_y_orig = test_set_y_orig.reshape((1, test_set_y_orig.shape[0]))\n",
    "    \n",
    "    return train_set_x_orig, train_set_y_orig, test_set_x_orig, test_set_y_orig, classes\n"
   ]
  },
  {
   "cell_type": "code",
   "execution_count": 190,
   "metadata": {
    "colab": {
     "base_uri": "https://localhost:8080/",
     "height": 677
    },
    "colab_type": "code",
    "id": "FJvLlBTLYZzs",
    "outputId": "58386588-00cc-4dcc-cce5-4d3ab89ac4ea"
   },
   "outputs": [],
   "source": [
    "train_file=\"data/train_catvnoncat.h5\"\n",
    "test_file=\"data/test_catvnoncat.h5\"\n",
    "train_x_orig, train_y, test_x_orig, test_y, classes = load_data(train_file, test_file)"
   ]
  },
  {
   "cell_type": "markdown",
   "metadata": {
    "colab_type": "text",
    "id": "oYX7NOM6YZzu"
   },
   "source": [
    "The following code will show you an image in the dataset. Feel free to change the index and re-run the cell multiple times to see other images. "
   ]
  },
  {
   "cell_type": "code",
   "execution_count": 258,
   "metadata": {
    "colab": {},
    "colab_type": "code",
    "id": "wq3Mb54lYZzw"
   },
   "outputs": [
    {
     "name": "stdout",
     "output_type": "stream",
     "text": [
      "y = 0. It's a non-cat picture.\n"
     ]
    },
    {
     "data": {
      "image/png": "[encoded data removed]",
      "text/plain": [
       "<Figure size 360x288 with 1 Axes>"
      ]
     },
     "metadata": {
      "needs_background": "light"
     },
     "output_type": "display_data"
    }
   ],
   "source": [
    "# Example of a picture\n",
    "index = 48\n",
    "plt.imshow(test_x_orig[index])\n",
    "print (\"y = \" + str(train_y[0,index]) + \". It's a \" + classes[train_y[0,index]].decode(\"utf-8\") +  \" picture.\")"
   ]
  },
  {
   "cell_type": "code",
   "execution_count": 192,
   "metadata": {
    "colab": {},
    "colab_type": "code",
    "id": "CXmt38fqYZzz"
   },
   "outputs": [
    {
     "name": "stdout",
     "output_type": "stream",
     "text": [
      "Number of training examples: 209\n",
      "Number of testing examples: 50\n",
      "Each image is of size: (64, 64, 3)\n",
      "train_x_orig shape: (209, 64, 64, 3)\n",
      "train_y shape: (1, 209)\n",
      "test_x_orig shape: (50, 64, 64, 3)\n",
      "test_y shape: (1, 50)\n"
     ]
    }
   ],
   "source": [
    "# Explore your dataset \n",
    "m_train = train_x_orig.shape[0]\n",
    "num_px = train_x_orig.shape[1]\n",
    "m_test = test_x_orig.shape[0]\n",
    "\n",
    "print (\"Number of training examples: \" + str(m_train))\n",
    "print (\"Number of testing examples: \" + str(m_test))\n",
    "print (\"Each image is of size: (\" + str(num_px) + \", \" + str(num_px) + \", 3)\")\n",
    "print (\"train_x_orig shape: \" + str(train_x_orig.shape))\n",
    "print (\"train_y shape: \" + str(train_y.shape))\n",
    "print (\"test_x_orig shape: \" + str(test_x_orig.shape))\n",
    "print (\"test_y shape: \" + str(test_y.shape))"
   ]
  },
  {
   "cell_type": "markdown",
   "metadata": {
    "colab_type": "text",
    "id": "-fOCheOtYZz2"
   },
   "source": [
    "As usual, you reshape and standardize the images before feeding them to the network.\n",
    "\n",
    "<img src=\"https://github.com/satya-umd/CMSC498L_HW2/blob/master/imvectorkiank.png?raw=1\" style=\"width:450px;height:300px;\">\n",
    "\n",
    "<caption><center> <u>Figure 1</u>: Image to vector conversion. <br> </center></caption>"
   ]
  },
  {
   "cell_type": "code",
   "execution_count": 193,
   "metadata": {
    "colab": {},
    "colab_type": "code",
    "id": "WR190VlHYZz3"
   },
   "outputs": [
    {
     "name": "stdout",
     "output_type": "stream",
     "text": [
      "train_x's shape: (12288, 209)\n",
      "test_x's shape: (12288, 50)\n"
     ]
    }
   ],
   "source": [
    "# Reshape the training and test examples \n",
    "train_x_flatten = train_x_orig.reshape(train_x_orig.shape[0], -1).T   # The \"-1\" makes reshape flatten the remaining dimensions\n",
    "test_x_flatten = test_x_orig.reshape(test_x_orig.shape[0], -1).T\n",
    "\n",
    "# Standardize data to have feature values between 0 and 1.\n",
    "train_x = train_x_flatten/255.\n",
    "test_x = test_x_flatten/255.\n",
    "\n",
    "print (\"train_x's shape: \" + str(train_x.shape))\n",
    "print (\"test_x's shape: \" + str(test_x.shape))\n"
   ]
  },
  {
   "cell_type": "markdown",
   "metadata": {
    "colab_type": "text",
    "id": "thc0SkgzYZz5"
   },
   "source": [
    "## 3 - Architecture of your model\n",
    "\n",
    "Now that you are familiar with the dataset, it is time to build a deep neural network to distinguish cat images from non-cat images.\n",
    "\n",
    "###  2-layer neural network\n",
    "\n",
    "<img src=\"https://github.com/satya-umd/CMSC498L_HW2/blob/master/2layerNN_kiank.png?raw=1\" style=\"width:650px;height:400px;\">\n",
    "<caption><center> <u>Figure 2</u>: 2-layer neural network. <br> The model can be summarized as: ***INPUT -> LINEAR -> RELU -> LINEAR -> SIGMOID -> OUTPUT***. </center></caption>\n",
    "\n",
    "<u>Detailed Architecture of figure 2</u>:\n",
    "- The input is a (64,64,3) image which is flattened to a vector of size $(12288,1)$. \n",
    "- The corresponding vector: $[x_0,x_1,...,x_{12287}]^T$ is then multiplied by the weight matrix $W^{[1]}$ of size $(n^{[1]}, 12288)$.\n",
    "- You then add a bias term and take its relu to get the following vector: $[a_0^{[1]}, a_1^{[1]},..., a_{n^{[1]}-1}^{[1]}]^T$.\n",
    "- You multiply the resulting vector by $W^{[2]}$ and add your intercept (bias). \n",
    "- Finally, you take the sigmoid of the result. If it is greater than 0.5, you classify it to be a cat.\n",
    "\n",
    "\n",
    "###  General methodology\n",
    "\n",
    "As usual you will follow the Deep Learning methodology to build the model:\n",
    "    1. Initialize parameters / Define hyperparameters\n",
    "    2. Loop for num_iterations:\n",
    "        a. Forward propagation\n",
    "        b. Compute cost function\n",
    "        c. Backward propagation\n",
    "        d. Update parameters (using parameters, and grads from backprop) \n",
    "    4. Use trained parameters to predict labels\n",
    "\n",
    "Let's now implement those the model!"
   ]
  },
  {
   "cell_type": "markdown",
   "metadata": {
    "colab_type": "text",
    "id": "G0VXipvaYZz5"
   },
   "source": [
    "\n",
    "**Question**:  Use the helper functions you have implemented in the previous assignment to build a 2-layer neural network with the following structure: *LINEAR -> RELU -> LINEAR -> SIGMOID*. The functions you may need and their inputs are:\n",
    "```python\n",
    "def initialize_parameters(n_x, n_h, n_y):\n",
    "    ...\n",
    "    return parameters \n",
    "def linear_activation_forward(A_prev, W, b, activation):\n",
    "    ...\n",
    "    return A, cache\n",
    "def compute_cost(AL, Y):\n",
    "    ...\n",
    "    return cost\n",
    "def linear_activation_backward(dA, cache, activation):\n",
    "    ...\n",
    "    return dA_prev, dW, db\n",
    "def update_parameters(parameters, grads, learning_rate):\n",
    "    ...\n",
    "    return parameters\n",
    "```\n"
   ]
  },
  {
   "cell_type": "code",
   "execution_count": 194,
   "metadata": {
    "colab": {},
    "colab_type": "code",
    "id": "Zshco0JZYZz6"
   },
   "outputs": [],
   "source": [
    "### CONSTANTS DEFINING THE MODEL ####\n",
    "n_x = 12288     # num_px * num_px * 3\n",
    "n_h = 7\n",
    "n_y = 1\n",
    "layers_dims = (n_x, n_h, n_y)"
   ]
  },
  {
   "cell_type": "code",
   "execution_count": 195,
   "metadata": {
    "colab": {},
    "colab_type": "code",
    "id": "e6de6qNqYZz9"
   },
   "outputs": [],
   "source": [
    "def two_layer_model(X, Y, layers_dims, learning_rate = 0.0075, num_iterations = 3000, print_cost=False):\n",
    "    \"\"\"\n",
    "    Implements a two-layer neural network: LINEAR->RELU->LINEAR->SIGMOID.\n",
    "    \n",
    "    Arguments:\n",
    "    X -- input data, of shape (n_x, number of examples)\n",
    "    Y -- true \"label\" vector (containing 0 if cat, 1 if non-cat), of shape (1, number of examples)\n",
    "    layers_dims -- dimensions of the layers (n_x, n_h, n_y)\n",
    "    num_iterations -- number of iterations of the optimization loop\n",
    "    learning_rate -- learning rate of the gradient descent update rule\n",
    "    print_cost -- If set to True, this will print the cost every 100 iterations \n",
    "    \n",
    "    Returns:\n",
    "    parameters -- a dictionary containing W1, W2, b1, and b2\n",
    "    \"\"\"\n",
    "    \n",
    "    np.random.seed(1)\n",
    "    grads = {}\n",
    "    costs = []                              # to keep track of the cost\n",
    "    m = X.shape[1]                           # number of examples\n",
    "    (n_x, n_h, n_y) = layers_dims\n",
    "    \n",
    "    # Initialize parameters dictionary, by calling one of the functions you'd previously implemented\n",
    "    ### START CODE HERE ### (≈ 1 line of code)\n",
    "    parameters = initialize_parameters(n_x, n_h, n_y)\n",
    "    ### END CODE HERE ###\n",
    "    \n",
    "    # Get W1, b1, W2 and b2 from the dictionary parameters.\n",
    "    W1 = parameters[\"W1\"]\n",
    "    b1 = parameters[\"b1\"]\n",
    "    W2 = parameters[\"W2\"]\n",
    "    b2 = parameters[\"b2\"]\n",
    "    \n",
    "    # Loop (gradient descent)\n",
    "\n",
    "    for i in range(0, num_iterations):\n",
    "\n",
    "        # Forward propagation: LINEAR -> RELU -> LINEAR -> SIGMOID. Inputs: \"X, W1, b1, W2, b2\". Output: \"A1, cache1, A2, cache2\".\n",
    "        ### START CODE HERE ### (≈ 2 lines of code)\n",
    "        A1, cache1 = linear_activation_forward(X, W1, b1, \"relu\")\n",
    "        A2, cache2 = linear_activation_forward(A1, W2, b2, \"sigmoid\")\n",
    "        ### END CODE HERE ###\n",
    "        \n",
    "        # Compute cost\n",
    "        ### START CODE HERE ### (≈ 1 line of code)\n",
    "        cost = compute_cost(A2, Y)\n",
    "        ### END CODE HERE ###\n",
    "        \n",
    "        # Initializing backward propagation\n",
    "        dA2 = - (np.divide(Y, A2) - np.divide(1 - Y, 1 - A2))\n",
    "        \n",
    "        # Backward propagation. Inputs: \"dA2, cache2, cache1\". Outputs: \"dA1, dW2, db2; also dA0 (not used), dW1, db1\".\n",
    "        ### START CODE HERE ### (≈ 2 lines of code)\n",
    "        dA1, dW2, db2 = linear_activation_backward(dA2, cache2, \"sigmoid\")\n",
    "        dA0, dW1, db1 = linear_activation_backward(dA1, cache1, \"relu\")\n",
    "        ### END CODE HERE ###\n",
    "        \n",
    "        # Set grads['dWl'] to dW1, grads['db1'] to db1, grads['dW2'] to dW2, grads['db2'] to db2\n",
    "        ### START CODE HERE ### (≈ 4 lines of code)\n",
    "        grads = {\"dW1\": dW1,\n",
    "         \"db1\": db1,\n",
    "         \"dW2\": dW2,\n",
    "         \"db2\": db2}\n",
    "        ### END CODE HERE ###\n",
    "        \n",
    "    \n",
    "        # Update parameters.\n",
    "        ### START CODE HERE ### (approx. 1 line of code)\n",
    "        \n",
    "        parameters = update_parameters(parameters, grads, learning_rate)\n",
    "        ### END CODE HERE ###\n",
    "\n",
    "        # Retrieve W1, b1, W2, b2 from parameters\n",
    "        W1 = parameters[\"W1\"]\n",
    "        b1 = parameters[\"b1\"]\n",
    "        W2 = parameters[\"W2\"]\n",
    "        b2 = parameters[\"b2\"]\n",
    "        \n",
    "        # Print the cost every 100 training example\n",
    "        if print_cost and i % 100 == 0:\n",
    "            print(\"Cost after iteration {}: {}\".format(i, np.squeeze(cost)))\n",
    "        if print_cost and i % 100 == 0:\n",
    "            costs.append(cost)\n",
    "    # plot the cost\n",
    "\n",
    "    plt.plot(np.squeeze(costs))\n",
    "    plt.ylabel('cost')\n",
    "    plt.xlabel('iterations (per tens)')\n",
    "    plt.title(\"Learning rate =\" + str(learning_rate))\n",
    "    plt.show()\n",
    "    \n",
    "    return parameters"
   ]
  },
  {
   "cell_type": "code",
   "execution_count": 196,
   "metadata": {
    "colab": {},
    "colab_type": "code",
    "id": "ME_O9v89YZ0C",
    "scrolled": true
   },
   "outputs": [
    {
     "name": "stdout",
     "output_type": "stream",
     "text": [
      "Cost after iteration 0: 0.6948558869316627\n",
      "Cost after iteration 100: 0.5702281987945905\n",
      "Cost after iteration 200: 0.45598689584344637\n",
      "Cost after iteration 300: 0.39279234709342215\n",
      "Cost after iteration 400: 0.30786823610440445\n",
      "Cost after iteration 500: 0.41643012778071087\n",
      "Cost after iteration 600: 0.35095324932818356\n",
      "Cost after iteration 700: 0.21963405066451677\n",
      "Cost after iteration 800: 0.5242685567221689\n",
      "Cost after iteration 900: 0.04510776685722769\n",
      "Cost after iteration 1000: 0.025994463722445994\n",
      "Cost after iteration 1100: 0.01734977995615428\n",
      "Cost after iteration 1200: 0.01276949798230922\n",
      "Cost after iteration 1300: 0.009758043148509072\n",
      "Cost after iteration 1400: 0.007856239168492733\n",
      "Cost after iteration 1500: 0.006516369245472674\n",
      "Cost after iteration 1600: 0.005514985247243576\n",
      "Cost after iteration 1700: 0.004775056095690313\n",
      "Cost after iteration 1800: 0.004190602139526775\n",
      "Cost after iteration 1900: 0.003720539213093909\n",
      "Cost after iteration 2000: 0.003331680053153939\n",
      "Cost after iteration 2100: 0.003017491814165799\n",
      "Cost after iteration 2200: 0.0027473128715114307\n",
      "Cost after iteration 2300: 0.002520460282524446\n",
      "Cost after iteration 2400: 0.0023276951890014576\n",
      "Cost after iteration 2500: 0.0021591175397272116\n",
      "Cost after iteration 2600: 0.0020119573217244804\n",
      "Cost after iteration 2700: 0.0018797787236247221\n",
      "Cost after iteration 2800: 0.001763747735840002\n",
      "Cost after iteration 2900: 0.0016603494642870229\n",
      "Cost after iteration 3000: 0.0015688150093037634\n",
      "Cost after iteration 3100: 0.0014840165052562415\n",
      "Cost after iteration 3200: 0.0014088932029634258\n",
      "Cost after iteration 3300: 0.001339748875245884\n",
      "Cost after iteration 3400: 0.0012767452039530707\n"
     ]
    },
    {
     "data": {
      "image/png": "[encoded data removed]",
      "text/plain": [
       "<Figure size 360x288 with 1 Axes>"
      ]
     },
     "metadata": {
      "needs_background": "light"
     },
     "output_type": "display_data"
    }
   ],
   "source": [
    "parameters = two_layer_model(train_x, train_y, layers_dims = (n_x, n_h, n_y), learning_rate = 0.04, num_iterations = 3500, print_cost=True)"
   ]
  },
  {
   "cell_type": "markdown",
   "metadata": {
    "colab_type": "text",
    "id": "VR9Me-SLYZ0H"
   },
   "source": [
    "**Expected Output**:\n",
    "<table> \n",
    "    <tr>\n",
    "        <td> **Cost after iteration 0**</td>\n",
    "        <td> 0.6930497356599888 </td>\n",
    "    </tr>\n",
    "    <tr>\n",
    "        <td> **Cost after iteration 100**</td>\n",
    "        <td> 0.6464320953428849 </td>\n",
    "    </tr>\n",
    "    <tr>\n",
    "        <td> **...**</td>\n",
    "        <td> ... </td>\n",
    "    </tr>\n",
    "    <tr>\n",
    "        <td> **Cost after iteration 2400**</td>\n",
    "        <td> 0.048554785628770206 </td>\n",
    "    </tr>\n",
    "</table>"
   ]
  },
  {
   "cell_type": "markdown",
   "metadata": {
    "colab_type": "text",
    "id": "V1-Mu18yYZ0I"
   },
   "source": [
    "Good thing you built a vectorized implementation! Otherwise it might have taken 10 times longer to train this.\n",
    "\n",
    "Now, you can use the trained parameters to classify images from the dataset. \n",
    "\n",
    "***Exercise:*** \n",
    "- Implement the forward function\n",
    "- Implement the predict function below to make prediction on test_images"
   ]
  },
  {
   "cell_type": "code",
   "execution_count": 197,
   "metadata": {
    "colab": {},
    "colab_type": "code",
    "id": "U8t5tZPuYZ0J"
   },
   "outputs": [],
   "source": [
    "def two_layer_forward(X, parameters):\n",
    "    \"\"\"\n",
    "    Implement forward propagation for the [LINEAR->RELU]*(L-1)->LINEAR->SIGMOID computation\n",
    "    \n",
    "    Arguments:\n",
    "    X -- data, numpy array of shape (input size, number of examples)\n",
    "    parameters -- output of initialize_parameters_deep()\n",
    "    \n",
    "    Returns:\n",
    "    AL -- last post-activation value\n",
    "    caches -- list of caches containing:\n",
    "                every cache of linear_relu_forward() (there are L-1 of them, indexed from 0 to L-2)\n",
    "                the cache of linear_sigmoid_forward() (there is one, indexed L-1)\n",
    "    \"\"\"\n",
    "\n",
    "    caches = []\n",
    "    A = X\n",
    "    \n",
    "    # Implement LINEAR -> RELU. Add \"cache\" to the \"caches\" list.\n",
    "    ### START CODE HERE ### (approx. 3 line of code)\n",
    "    A1, cache = linear_activation_forward(A, parameters['W1'], parameters['b1'], \"relu\")\n",
    "    caches +=  cache    \n",
    "    ### END CODE HERE ###\n",
    "\n",
    "    # Implement LINEAR -> SIGMOID. Add \"cache\" to the \"caches\" list.\n",
    "    ### START CODE HERE ### (approx. 3 line of code)\n",
    "    A2, cache = linear_activation_forward(A1, parameters['W2'], parameters['b2'], \"sigmoid\")\n",
    "    caches += cache     \n",
    "    ### END CODE HERE ###\n",
    "\n",
    "    assert(A2.shape == (1,X.shape[1]))\n",
    "            \n",
    "    return A2, caches"
   ]
  },
  {
   "cell_type": "code",
   "execution_count": 231,
   "metadata": {
    "colab": {},
    "colab_type": "code",
    "id": "rbTDGCbIYZ0M"
   },
   "outputs": [],
   "source": [
    "def predict(X, y, parameters):\n",
    "    \"\"\"\n",
    "    This function is used to predict the results of a  L-layer neural network.\n",
    "    \n",
    "    Arguments:\n",
    "    X -- data set of examples you would like to label\n",
    "    parameters -- parameters of the trained model\n",
    "    \n",
    "    Returns:\n",
    "    p -- predictions for the given dataset X\n",
    "    \"\"\"\n",
    "    \n",
    "    m = X.shape[1]\n",
    "    n = len(parameters) // 2 # number of layers in the neural network\n",
    "    p = np.zeros((1,m))\n",
    "    \n",
    "    # Forward propagation\n",
    "    ### START CODE HERE ### (≈ 1 lines of code)\n",
    "    probas, caches =  two_layer_forward(X, parameters)  \n",
    "    ### END CODE HERE ###\n",
    "    \n",
    "    # convert probas to 0/1 predictions\n",
    "    for i in range(0, probas.shape[1]):\n",
    "        ### START CODE HERE ### (≈ 4 lines of code)\n",
    "        if(probas[0,i]>=0.5):\n",
    "          p[0,i]=1\n",
    "        else:\n",
    "          p[0,i]=0\n",
    "        ### END CODE HERE ###\n",
    "    \n",
    "    print(\"Accuracy: \"  + str(np.sum((p == y)/m)))\n",
    "        \n",
    "    return p"
   ]
  },
  {
   "cell_type": "code",
   "execution_count": 232,
   "metadata": {
    "colab": {},
    "colab_type": "code",
    "id": "nINC4vXQYZ0Q"
   },
   "outputs": [
    {
     "name": "stdout",
     "output_type": "stream",
     "text": [
      "Accuracy: 0.9999999999999998\n"
     ]
    }
   ],
   "source": [
    "predictions_train = predict(train_x, train_y, parameters)"
   ]
  },
  {
   "cell_type": "code",
   "execution_count": 233,
   "metadata": {
    "colab": {},
    "colab_type": "code",
    "id": "n8QP5oiMYZ0T"
   },
   "outputs": [
    {
     "name": "stdout",
     "output_type": "stream",
     "text": [
      "Accuracy: 0.78\n"
     ]
    }
   ],
   "source": [
    "predictions_test = predict(test_x, test_y, parameters)"
   ]
  },
  {
   "cell_type": "markdown",
   "metadata": {
    "colab_type": "text",
    "id": "sj8kUzf2YZ0Y"
   },
   "source": [
    "***Exercise:***\n",
    "Identify the hyperparameters in the model and For each hyperparameter\n",
    "- Briefly explain its role\n",
    "- Explore a range of values and describe their impact on (a) training loss and (b) test accuracy\n",
    "- Report the best hyperparameter value found.\n",
    "\n",
    "Note: Provide your results and explanations in the report for this question."
   ]
  },
  {
   "cell_type": "markdown",
   "metadata": {
    "colab_type": "text",
    "id": "EksnRuQAYZ0Y"
   },
   "source": [
    "##  Results Analysis\n",
    "\n",
    "First, let's take a look at some images the 2-layer model labeled incorrectly. This will show a few mislabeled images."
   ]
  },
  {
   "cell_type": "code",
   "execution_count": 59,
   "metadata": {
    "colab": {},
    "colab_type": "code",
    "id": "wGdhSRL5YZ0Z"
   },
   "outputs": [],
   "source": [
    "def print_mislabeled_images(classes, X, y, p):\n",
    "    \"\"\"\n",
    "    Plots images where predictions and truth were different.\n",
    "    X -- dataset\n",
    "    y -- true labels\n",
    "    p -- predictions\n",
    "    \"\"\"\n",
    "    a = p + y\n",
    "    mislabeled_indices = np.asarray(np.where(a == 1))\n",
    "    plt.rcParams['figure.figsize'] = (40.0, 40.0) # set default size of plots\n",
    "    num_images = len(mislabeled_indices[0])\n",
    "    for i in range(num_images):\n",
    "        index = mislabeled_indices[1][i]\n",
    "        \n",
    "        plt.subplot(2, num_images, i + 1)\n",
    "        plt.imshow(X[:,index].reshape(64,64,3), interpolation='nearest')\n",
    "        plt.axis('off')\n",
    "        plt.title(\"Prediction: \" + classes[int(p[0,index])].decode(\"utf-8\") + \" \\n Class: \" + classes[y[0,index]].decode(\"utf-8\"))"
   ]
  },
  {
   "cell_type": "code",
   "execution_count": 60,
   "metadata": {
    "colab": {},
    "colab_type": "code",
    "id": "M__VYVreYZ0c"
   },
   "outputs": [
    {
     "data": {
      "image/png": "[encoded data removed]",
      "text/plain": [
       "<Figure size 2880x2880 with 11 Axes>"
      ]
     },
     "metadata": {
      "needs_background": "light"
     },
     "output_type": "display_data"
    }
   ],
   "source": [
    "print_mislabeled_images(classes, test_x, test_y, predictions_test)"
   ]
  },
  {
   "cell_type": "markdown",
   "metadata": {
    "colab_type": "text",
    "id": "dtU2TkP8YZ0f"
   },
   "source": [
    "***Exercise:*** Identify a few types of images that tends to perform poorly on the model"
   ]
  },
  {
   "cell_type": "markdown",
   "metadata": {
    "colab_type": "text",
    "id": "OOJrVsmaYZ0h"
   },
   "source": [
    "Now, lets use the same architecture to predict sentiment of movie reviews. In this section, most of the implementation is already provided. The exercises are mainly to understand what the workflow is when handling the text data."
   ]
  },
  {
   "cell_type": "code",
   "execution_count": 61,
   "metadata": {
    "colab": {},
    "colab_type": "code",
    "id": "EavQjhHwYZ0i"
   },
   "outputs": [],
   "source": [
    "import re"
   ]
  },
  {
   "cell_type": "markdown",
   "metadata": {
    "colab_type": "text",
    "id": "pJU4HO0YYZ0k"
   },
   "source": [
    "# Dataset"
   ]
  },
  {
   "cell_type": "markdown",
   "metadata": {
    "colab_type": "text",
    "id": "EmdIhFBfYZ0m"
   },
   "source": [
    "**Problem Statement**: You are given a dataset (\"train_imdb.txt\", \"test_imdb.txt\") containing:\n",
    "    - a training set of m_train reviews \n",
    "    - a test set of m_test reviews \n",
    "    - the labels for the training examples are such that the first 50% belong to class 1 (positive) and the rest 50% of the data belong to class 0(negative)\n",
    "    \n",
    "Let's get more familiar with the dataset. Load the data by completing the function and run the cell below."
   ]
  },
  {
   "cell_type": "code",
   "execution_count": 62,
   "metadata": {
    "colab": {},
    "colab_type": "code",
    "id": "S1V9KgPCYZ0n"
   },
   "outputs": [],
   "source": [
    "def load_data(train_file, test_file):\n",
    "    train_dataset = []\n",
    "    test_dataset = []\n",
    "    \n",
    "    # Read the training dataset file line by line\n",
    "    for line in open(train_file, 'r'):\n",
    "        train_dataset.append(line.strip())\n",
    "        \n",
    "    for line in open(test_file, 'r'):\n",
    "        test_dataset.append(line.strip())\n",
    "    return train_dataset, test_dataset"
   ]
  },
  {
   "cell_type": "code",
   "execution_count": 63,
   "metadata": {
    "colab": {},
    "colab_type": "code",
    "id": "IfunW9w-YZ0p"
   },
   "outputs": [],
   "source": [
    "train_file = \"data/train_imdb.txt\"\n",
    "test_file = \"data/test_imdb.txt\"\n",
    "train_dataset, test_dataset = load_data(train_file, test_file)"
   ]
  },
  {
   "cell_type": "code",
   "execution_count": 64,
   "metadata": {
    "colab": {},
    "colab_type": "code",
    "id": "_lcWWaCxYZ0s"
   },
   "outputs": [],
   "source": [
    "# This is just how the data is organized. The first 50% data is positive and the rest 50% is negative for both train and test splits.\n",
    "y = [1 if i < len(train_dataset)*0.5 else 0 for i in range(len(train_dataset))]"
   ]
  },
  {
   "cell_type": "markdown",
   "metadata": {
    "colab_type": "text",
    "id": "mJUqRX1_YZ0u"
   },
   "source": [
    "As usual, lets check our dataset "
   ]
  },
  {
   "cell_type": "code",
   "execution_count": 65,
   "metadata": {
    "colab": {},
    "colab_type": "code",
    "id": "aARF_vf8YZ0v"
   },
   "outputs": [
    {
     "name": "stdout",
     "output_type": "stream",
     "text": [
      "I liked the film. Some of the action scenes were very interesting, tense and well done. I especially liked the opening scene which had a semi truck in it. A very tense action scene that seemed well done.<br /><br />Some of the transitional scenes were filmed in interesting ways such as time lapse photography, unusual colors, or interesting angles. Also the film is funny is several parts. I also liked how the evil guy was portrayed too. I'd give the film an 8 out of 10.\n",
      "y = 1\n"
     ]
    }
   ],
   "source": [
    "# Example of a review\n",
    "index = 10\n",
    "print(train_dataset[index])\n",
    "print (\"y = \" + str(y[index]))"
   ]
  },
  {
   "cell_type": "code",
   "execution_count": 66,
   "metadata": {
    "colab": {},
    "colab_type": "code",
    "id": "rvKwqlDlYZ0y"
   },
   "outputs": [
    {
     "name": "stdout",
     "output_type": "stream",
     "text": [
      "Number of training examples: 1001\n",
      "Number of testing examples: 201\n"
     ]
    }
   ],
   "source": [
    "# Explore your dataset \n",
    "m_train = len(train_dataset)\n",
    "m_test = len(test_dataset)\n",
    "\n",
    "print (\"Number of training examples: \" + str(m_train))\n",
    "print (\"Number of testing examples: \" + str(m_test))"
   ]
  },
  {
   "cell_type": "markdown",
   "metadata": {
    "colab_type": "text",
    "id": "QJ-A_JVyYZ00"
   },
   "source": [
    "## Pre-Processing"
   ]
  },
  {
   "cell_type": "markdown",
   "metadata": {
    "colab_type": "text",
    "id": "cbkHzyfMYZ01"
   },
   "source": [
    "From the example review, you can see that the raw data is really noisy! This is generally the case with the text data. Hence, Preprocessing the raw input and cleaning the text is  essential. Please run the code snippet provided below.\n",
    "\n",
    "**Exercise**: Explain what pattern the model is trying to capture using re.compile in your report. "
   ]
  },
  {
   "cell_type": "code",
   "execution_count": 67,
   "metadata": {
    "colab": {},
    "colab_type": "code",
    "id": "Y3wTY1CjYZ01"
   },
   "outputs": [],
   "source": [
    "REPLACE_NO_SPACE = re.compile(\"(\\.)|(\\;)|(\\:)|(\\!)|(\\')|(\\?)|(\\,)|(\\\")|(\\()|(\\))|(\\[)|(\\])|(\\d+)\")\n",
    "REPLACE_WITH_SPACE = re.compile(\"(<br\\s*/><br\\s*/>)|(\\-)|(\\/)\")\n",
    "NO_SPACE = \"\"\n",
    "SPACE = \" \"\n",
    "\n",
    "def preprocess_reviews(reviews):\n",
    "    \n",
    "    reviews = [REPLACE_NO_SPACE.sub(NO_SPACE, line.lower()) for line in reviews]\n",
    "    reviews = [REPLACE_WITH_SPACE.sub(SPACE, line) for line in reviews]\n",
    "    \n",
    "    return reviews\n",
    "\n",
    "train_dataset_clean = preprocess_reviews(train_dataset)\n",
    "test_dataset_clean = preprocess_reviews(test_dataset)"
   ]
  },
  {
   "cell_type": "code",
   "execution_count": 262,
   "metadata": {
    "colab": {},
    "colab_type": "code",
    "id": "xqQvcLOdYZ03"
   },
   "outputs": [
    {
     "name": "stdout",
     "output_type": "stream",
     "text": [
      "i was fortunate to attend the london premier of this film while i am not at all a fan of british drama i did find myself deeply moved by the characters and the bad choices they made i was in tears by the end of the film every scene was mesmerizing the attention to detail and the excellent acting was quite impressive i would have to agree with some of the other comments here which question why all these women were throwing themselves at such a despicable character *******spolier alert******** i was also hoping that dylan would have been killed by william when he had the chance ****end spoiler***** keira knightley did a great job and radiate beauty and innocence from the screen but it was sienna millers performance that was truly oscar worthy i am sure this production will be nominated for other awards\n",
      "y = 1\n"
     ]
    }
   ],
   "source": [
    "# Example of a clean review\n",
    "index = 11\n",
    "print(train_dataset_clean[index])\n",
    "print (\"y = \" + str(y[index]))"
   ]
  },
  {
   "cell_type": "markdown",
   "metadata": {
    "colab_type": "text",
    "id": "juzhoLdqYZ05"
   },
   "source": [
    "## Vectorization"
   ]
  },
  {
   "cell_type": "markdown",
   "metadata": {
    "colab_type": "text",
    "id": "xWhgL8IBYZ06"
   },
   "source": [
    "Now lets create a feature vector for our reviews based on a simple bag of words model. So, given an input text, we need to create a numerical vector which is simply the vector of word counts for each word of the vocabulary. Run the code below to get the feature representation."
   ]
  },
  {
   "cell_type": "code",
   "execution_count": 69,
   "metadata": {
    "colab": {},
    "colab_type": "code",
    "id": "83F-7BPqYZ06"
   },
   "outputs": [],
   "source": [
    "from sklearn.feature_extraction.text import CountVectorizer\n",
    "\n",
    "cv = CountVectorizer(binary=True, stop_words=\"english\", max_features=2000)\n",
    "cv.fit(train_dataset_clean)\n",
    "X = cv.transform(train_dataset_clean)\n",
    "X_test = cv.transform(test_dataset_clean)"
   ]
  },
  {
   "cell_type": "markdown",
   "metadata": {
    "colab_type": "text",
    "id": "R5QQ9jfPYZ0_"
   },
   "source": [
    "CountVectorizer provides a sparse feature representation by default which is reasonable because only some words occur in individual example. However, for training neural network models, we generally use a dense representation vector."
   ]
  },
  {
   "cell_type": "code",
   "execution_count": 70,
   "metadata": {
    "colab": {},
    "colab_type": "code",
    "id": "i6REzPMJYZ1A"
   },
   "outputs": [],
   "source": [
    "X = np.array(X.todense()).astype(float)\n",
    "X_test = np.array(X_test.todense()).astype(float)\n",
    "y = np.array(y)"
   ]
  },
  {
   "cell_type": "markdown",
   "metadata": {
    "colab_type": "text",
    "id": "mJw4lCNVYZ1D"
   },
   "source": [
    "## Model"
   ]
  },
  {
   "cell_type": "code",
   "execution_count": 71,
   "metadata": {
    "colab": {},
    "colab_type": "code",
    "id": "Cu6blbULYZ1E"
   },
   "outputs": [
    {
     "name": "stderr",
     "output_type": "stream",
     "text": [
      "/usr/local/lib/python3.6/dist-packages/sklearn/model_selection/_split.py:2179: FutureWarning: From version 0.21, test_size will always complement train_size unless both are specified.\n",
      "  FutureWarning)\n"
     ]
    }
   ],
   "source": [
    "from sklearn.metrics import accuracy_score\n",
    "from sklearn.model_selection import train_test_split\n",
    "\n",
    "X_train, X_val, y_train, y_val = train_test_split(\n",
    "    X, y, train_size = 0.80\n",
    ")"
   ]
  },
  {
   "cell_type": "code",
   "execution_count": 72,
   "metadata": {
    "colab": {},
    "colab_type": "code",
    "id": "xWDY1HLLYZ1G"
   },
   "outputs": [],
   "source": [
    "# This is just to correct the shape of the arrays as required by the two_layer_model\n",
    "X_train = X_train.T\n",
    "X_val = X_val.T\n",
    "y_train = y_train.reshape(1,-1)\n",
    "y_val = y_val.reshape(1,-1)"
   ]
  },
  {
   "cell_type": "code",
   "execution_count": 111,
   "metadata": {
    "colab": {},
    "colab_type": "code",
    "id": "q6Q7C5XUYZ1I"
   },
   "outputs": [],
   "source": [
    "### CONSTANTS DEFINING THE MODEL ####\n",
    "n_x = X_train.shape[0]    \n",
    "n_h = 300\n",
    "n_y = 1\n",
    "layers_dims = (n_x, n_h, n_y)"
   ]
  },
  {
   "cell_type": "markdown",
   "metadata": {
    "colab_type": "text",
    "id": "FtjAGlCqYZ1L"
   },
   "source": [
    "We will use the same two layer model that you completed in the previous section for training."
   ]
  },
  {
   "cell_type": "code",
   "execution_count": 112,
   "metadata": {
    "scrolled": true
   },
   "outputs": [
    {
     "name": "stdout",
     "output_type": "stream",
     "text": [
      "Cost after iteration 0: 0.6933527036335623\n",
      "Accuracy: 0.4676616915422885\n",
      "Cost after iteration 100: 0.6638732190090384\n",
      "Accuracy: 0.671641791044776\n",
      "Cost after iteration 200: 0.4086591370418224\n",
      "Accuracy: 0.8358208955223878\n",
      "Cost after iteration 300: 0.19174537689499574\n",
      "Accuracy: 0.825870646766169\n",
      "Cost after iteration 400: 0.10289248819650437\n",
      "Accuracy: 0.8507462686567162\n",
      "Cost after iteration 500: 0.06196844544078578\n",
      "Accuracy: 0.8606965174129351\n",
      "Cost after iteration 600: 0.041143606434144886\n",
      "Accuracy: 0.8557213930348256\n",
      "Cost after iteration 700: 0.029477834232027877\n",
      "Accuracy: 0.8606965174129351\n",
      "Cost after iteration 800: 0.02235296859765809\n",
      "Accuracy: 0.8557213930348256\n",
      "Cost after iteration 900: 0.017682954258617906\n",
      "Accuracy: 0.8507462686567162\n",
      "Cost after iteration 1000: 0.014446426985305922\n",
      "Accuracy: 0.8507462686567162\n",
      "Cost after iteration 1100: 0.012102201824117668\n",
      "Accuracy: 0.8507462686567162\n",
      "Cost after iteration 1200: 0.010342978633408908\n",
      "Accuracy: 0.8507462686567162\n",
      "Cost after iteration 1300: 0.008983983949180808\n",
      "Accuracy: 0.8507462686567162\n",
      "Cost after iteration 1400: 0.007908268060693153\n",
      "Accuracy: 0.8507462686567162\n",
      "Cost after iteration 1500: 0.007039345733011839\n",
      "Accuracy: 0.8507462686567162\n",
      "Cost after iteration 1600: 0.006325280803631286\n",
      "Accuracy: 0.8507462686567162\n",
      "Cost after iteration 1700: 0.005729763426811641\n",
      "Accuracy: 0.8507462686567162\n",
      "Cost after iteration 1800: 0.005226770929852378\n",
      "Accuracy: 0.8507462686567162\n",
      "Cost after iteration 1900: 0.004797166793967194\n",
      "Accuracy: 0.8507462686567162\n"
     ]
    },
    {
     "data": {
      "image/png": "[encoded data removed]",
      "text/plain": [
       "<Figure size 2880x2880 with 1 Axes>"
      ]
     },
     "metadata": {
      "needs_background": "light"
     },
     "output_type": "display_data"
    }
   ],
   "source": [
    "parameters = two_layer_model(X_train, y_train, layers_dims = (n_x, n_h, n_y),learning_rate = 0.08, num_iterations = 2000, print_cost=True)"
   ]
  },
  {
   "cell_type": "markdown",
   "metadata": {
    "colab_type": "text",
    "id": "EmvlCP6HYZ1N"
   },
   "source": [
    "## Predict the review for our movies!"
   ]
  },
  {
   "cell_type": "code",
   "execution_count": 99,
   "metadata": {
    "colab": {},
    "colab_type": "code",
    "id": "7fwtvNhhYZ1N"
   },
   "outputs": [
    {
     "name": "stdout",
     "output_type": "stream",
     "text": [
      "Accuracy: 0.9999999999999998\n"
     ]
    }
   ],
   "source": [
    "predictions_train = predict(X_train, y_train, parameters)"
   ]
  },
  {
   "cell_type": "code",
   "execution_count": 100,
   "metadata": {
    "colab": {},
    "colab_type": "code",
    "id": "bxRntRswYZ1P"
   },
   "outputs": [
    {
     "name": "stdout",
     "output_type": "stream",
     "text": [
      "Accuracy: 0.8507462686567162\n"
     ]
    }
   ],
   "source": [
    "predictions_val = predict(X_val, y_val, parameters)"
   ]
  },
  {
   "cell_type": "markdown",
   "metadata": {
    "colab_type": "text",
    "id": "mcARB5oSYZ1Q"
   },
   "source": [
    "##  Results Analysis\n",
    "\n",
    "Let's take a look at some examples the 2-layer model labeled incorrectly"
   ]
  },
  {
   "cell_type": "code",
   "execution_count": 265,
   "metadata": {
    "colab": {},
    "colab_type": "code",
    "id": "4BbPRU61YZ1R"
   },
   "outputs": [],
   "source": [
    "def print_mislabeled_reviews(X, y, p):\n",
    "    \"\"\"\n",
    "    Plots images where predictions and truth were different.\n",
    "    X -- dataset\n",
    "    y -- true labels\n",
    "    p -- predictions\n",
    "    \"\"\"\n",
    "    a = p + y\n",
    "    mislabeled_indices = np.asarray(np.where(a == 1))\n",
    "    plt.rcParams['figure.figsize'] = (40.0, 40.0) # set default size of plots\n",
    "    num_reviews = len(mislabeled_indices[0])\n",
    "    for i in range(num_reviews):\n",
    "        index = mislabeled_indices[1][i]\n",
    "        print((\" \").join(cv.inverse_transform(X[index])[0]))\n",
    "        print(\"Prediction: \" + str(int(p[0,index])) + \" \\n Class: \" + str(y[0,index]))"
   ]
  },
  {
   "cell_type": "code",
   "execution_count": 266,
   "metadata": {
    "colab": {},
    "colab_type": "code",
    "id": "1r3ndOTqYZ1T"
   },
   "outputs": [
    {
     "name": "stdout",
     "output_type": "stream",
     "text": [
      "action adventure adventures bad camp character characters check crew decided doc elements familiar fan fans feel feeling film good hero heroes im james jones just know long lot major minutes movie movies music number ones promise provided really resulting savage say seeing somewhat spirit star thats theres throw time trying unfortunate way\n",
      "Prediction: 0 \n",
      " Class: 1\n",
      "cause early effort government heavy past people problems production propaganda short spending sudden time truly using war window\n",
      "Prediction: 1 \n",
      " Class: 0\n",
      "charlie dont eye fake film final harder hot im know like look looks real said say scene scenes sure tell thing truth\n",
      "Prediction: 0 \n",
      " Class: 1\n",
      "acting actors admit annoying arent art bad ball beginning best better big billy bits book calling camera case character characters cinematic come coming cons crouse cusack david definitely dialogue did didnt direct directed does doesnt dont early end ending entertaining expecting extremely far feel film filmed films flat forth free fun game games gets getting girl going good guy half help heres hes hour house ill im inner involved isnt james john just keeps lesson let level like lindsay line lines little look looked lose mamet mantegna mark maybe mean men middle mind minutes moves movie narration nature new ones opening pick play precious pretty problem quality questions read reading real realize really result ring roll room scene second shes sort sound sounds speaking standard start stick story strange stuff supposed theatre theyre things true want wants watch way weird whats words work wouldnt write\n",
      "Prediction: 0 \n",
      " Class: 1\n",
      "acting add annoying bad change character dicaprio did director does eyes film filmmakers films glad going good great half hand hardly impressive just kate learned lesson love mean million movie opinion oscar performance possible really romance romantic second ship shouldnt single sit stories story sure talented think thinking time times titanic try watching win wonderful wont worst\n",
      "Prediction: 0 \n",
      " Class: 1\n",
      "acting animals best better die dont entire episode episodes funny good horrible ice just killing know life like movie obviously plot pro problem really remember right scene scenes season second series shocking suspense think torture turns victims watch women wonderful worst\n",
      "Prediction: 0 \n",
      " Class: 1\n",
      "actors attempt beauty believable big bit charismatic claims definitely delivery did didnt disappointing disaster entertained fact film fine group job line looked lost miss offensive performance playing plays plot project recommend rent scenes screen seen strong talent wish writing\n",
      "Prediction: 0 \n",
      " Class: 1\n",
      "acting actress added beautiful blood boring career cast color compared days earlier films golden great hunter just leading like man mark memories particularly performance photography picked pleasant quickly rate saw second shown story supporting terrible think time turned unbelievable\n",
      "Prediction: 1 \n",
      " Class: 0\n",
      "better body cast central cinema come coming comments company computer decides die entertaining exist failed fall fan film films genius gets getting going great hard hey highly hollywood house idea interested judging latest lesson lessons like make making man member money movie movies near potential premise puts review reviews role scenes seen set shock soon stupid taken takes type unless unrelated wish wow writer writing yes zero\n",
      "Prediction: 1 \n",
      " Class: 0\n",
      "avoid away best blair body does ending entire father fellow female film flick gang girls lets like makes minutes movie old plays pointless running scene school shot showing somewhat stuck tedious utterly year\n",
      "Prediction: 1 \n",
      " Class: 0\n",
      "attractive away bit book character characters charismatic charlotte classic cold credit death deeply did direction disappointed dry eyre filmed forth great greatest having hero hope idea imagine including interesting jane left little live loved main man missing movie mr novel opinion original parts powerful qualities read rochester room runs screenplay seeing self sense shame simply story title woman written\n",
      "Prediction: 1 \n",
      " Class: 0\n",
      "actually amazed better big black brothers cheap comedy constantly content detective dont earth face fact famous film films funny genuine high hit horror huge just laugh look mention mid minutes place release screaming shot situation time today week works wrong yes\n",
      "Prediction: 0 \n",
      " Class: 1\n",
      "film forgotten late little long makers money movie night present subtle time todays tv\n",
      "Prediction: 0 \n",
      " Class: 1\n",
      "annoying beautiful easily escape films finds force george god goes good great hand high island isnt jane johnny mention people period player present priest robert singer song thing tries try used woman worst worthy years\n",
      "Prediction: 1 \n",
      " Class: 0\n",
      "anna appearance away bad better bible big black blue book boys build capture cat catch chaos charles child city comic connected cops cult deal didnt doesnt earth edge exactly extreme far favorite fictional fine finished followed fond form fun gang gas genius giant god going good got government green guy guys half happening happens hard havent having heroes hey hospital include japanese join just kind know known like liked line looks lot make match monster movie mysterious naked named names new nice oh order paid past people place places police power problem project puts quickly red remains right seconds seeing series set sexy soon sorts special starts story taking thanks thats theres theyre thing tom unfortunately use using villains violence want whos woman world yeah year youd\n",
      "Prediction: 0 \n",
      " Class: 1\n",
      "action actor ass bad best better boy brain case cast childhood clichés comes convincing cool cop cross days definitely diamond doctor drive earth easily end enjoyable especially experience fans flick fond forget gas good griffith guilty guy hard help helps hes holes idea ill involving ive just kid kids killer kind lead liked likely memories memory mix movie needed needless person played pleasure poor poorly power pretty problem realized remembered reviewers run sad said satan say scared scary scene script serial somewhat spin steven story tells thought thrown time touch trash tries twists viewing villain weak work\n",
      "Prediction: 1 \n",
      " Class: 0\n",
      "acting actually added ask away basic biggest blame character characters children come coming convincing couple decent development didnt disappointing does doesnt dont english european experience female fully good great job king know later learns little lot lover main meant movie musical ok opinion piece played portrayal possibly presence really romance screenplay situation situations songs st stand story storyline things times understand viewer watched wife woman\n",
      "Prediction: 1 \n",
      " Class: 0\n",
      "able actress anna appeal audience audrey big case character comedy comes dance day did didnt dont english enjoyed fair film filmmakers fine flick folks forth generation genre good half ill including isnt ive james julie kind king lady later leave left like liked likes lot love meaning movie music negative numbers okay particularly people personally place point presence production rarely really role saw say seen set seven song songs sound spends star story straight thing think today trying turn unlike way west wood yes youll\n",
      "Prediction: 1 \n",
      " Class: 0\n",
      "actor actually adults bringing calls cast child children doing era eyes famous focus fun given guess guy history host interesting john julia kenneth kind king like martin movie natural news park police provided question really say seeing short shouldnt simply smith sort story thought true version voice voices woman work worth wouldnt young\n",
      "Prediction: 0 \n",
      " Class: 1\n",
      "action adaptation animated battle believe better big bit book books captured character characters classic closer death despite dialogue did enjoyed events expect fair faithful far features feel film games gets happen kind know like little look merely novel number obvious overall paul plot plus political presence present pretty really recent relationships released robert romantic said seen series slightly space speak spin spirit think treatment tv unrelated usually version vision wanted wise year years\n",
      "Prediction: 0 \n",
      " Class: 1\n",
      "action add attention cinema comedy comes disappointed doesnt especially expecting fan feel film films genuinely giving high horror humour hundreds im isnt keeps know leave lot lots movie movies people plane points potential rating ratings released reviews say secret situation smile snake snakes stand thinking trailer want wont written youll youre\n",
      "Prediction: 1 \n",
      " Class: 0\n",
      "big bigger brothers career channel charles chase classic comedies comedy compared did didnt dont earlier enjoyed fan fans fell film films finish flat gave general gets good gotten great half im interested known like liked limited little looking lot martin material maybe movie movies new old popular rate really recommend review ring role say second seen shot shown sound special supporting tell thats time trying understand violence watch watched watching way wont work years youve\n",
      "Prediction: 1 \n",
      " Class: 0\n",
      "actors art ask attempts audiences awful beautiful case character characters cinema cute date deliver despite development doesnt exactly expectations expected expecting experience fails female film flaws frank good hes high humour interesting know lead leads learn like liked main male matters men movie nice painful people plays potential pretty questions reviews romance romantic school screenplay shes simply story takes thats theyre tries try victim viewer women written youre\n",
      "Prediction: 1 \n",
      " Class: 0\n",
      "actually ago american begin begins big bring buy century circumstances couple does doesnt effects emotional flicks follows happen highly home house husband impact john life like man masterpiece mysterious old outside plot recommended simple special story strange supposedly things turn unknown went woman world\n",
      "Prediction: 0 \n",
      " Class: 1\n",
      "bunch doesnt feel got laugh laughed left like loud make masterpiece movie ok purpose smile times viewer worth\n",
      "Prediction: 0 \n",
      " Class: 1\n",
      "actually appreciate artistic best bring came chance cheesy cinema experience explanation hope hopefully hours imdb indian intended life like list lot minutes mood movie movies music oh older open outside painful people place plain production rating really reason review seeing seen simply stupid th try understand unknown wish worth wrong\n",
      "Prediction: 1 \n",
      " Class: 0\n",
      "actually addition age animation appearance appears audience break came characters class comes considering deal dialog different does doing dont dr earlier enjoy entire explain family film flick goes gone got great guess half holes hot ill im issues just kid kids kinda know lack lacks like little lucky mad main make makes mean mid middle mind miss movie movies needed obvious opposite pass people person plot present probably prove real reality realize saw say scary scene scenes screen script second sense shouldnt sister stick story sure team theres theyre thing things think time track treat unexpected video watch years youre\n",
      "Prediction: 0 \n",
      " Class: 1\n",
      "beautiful beautifully better case characters child cinematography come director entirely feature great hands heart hope images just knows lacks leaves lets movie outside scenery second shot sound technically terrific used\n",
      "Prediction: 1 \n",
      " Class: 0\n",
      "ann cause characters comedy compared computer connection considered day days did dont end entertainment ex fight film films flight future george given going got hand having help hes home human including instead isnt issue just kids kill killed know lesson life like live losing lost love make making man matter maybe meets money necessary people pictures plan plays plot prior project rich school sets shows stars step street streets stupid technology tender theyre things think thrown treasure used using vote wall wants war wasnt woman work world written years young\n",
      "Prediction: 0 \n",
      " Class: 1\n",
      "awful beautifully bright character comedy comments confusing crying daughter director disappointing does effective ends famous father film films funny great help just learn left lies light like makes making man mean mediocre message movie music needed needs overall point pointless positive rape remember role roles scene shown shows simply society stand strong subject talking thing thinks title track tries usually victim victims viewers way weak went woman women wooden wrong\n",
      "Prediction: 1 \n",
      " Class: 0\n"
     ]
    }
   ],
   "source": [
    "print_mislabeled_reviews(X_val.T, y_val, predictions_val)"
   ]
  },
  {
   "cell_type": "markdown",
   "metadata": {
    "colab_type": "text",
    "id": "mfk2O8UvYZ1V"
   },
   "source": [
    "**Exercise**: Provide explanation as to why these examples were misclassified in your report."
   ]
  },
  {
   "cell_type": "markdown",
   "metadata": {},
   "source": [
    "For the Cat classifier, an accuracy of 78% was achieved, there were 11 missclassified images in the validation set, with 8 false negatives and 3 false positives.\n",
    "\n",
    "The major reason for misclassfication might be the contrast of the Cat's face and body compared to the background and also the posture of how the cat is shown in the picture. Most of the training set had images of cats, with a high contrast betweent the cat's body and a different colored, mostly dark background. Also in the training images, the cat is framed at the centre of the image with it's head occupying major portion of the image. While in the missclassified validation images, the cat is not ussually centred and is sometimes lying down or in weird postures. Also, the background in some images doesn't have a high contrast, which might be causing the missclassification. \n",
    "\n",
    "Adding more augumented images to our training set as well as increasing the training data might help improve the accuracy and prevent these false negatives."
   ]
  },
  {
   "cell_type": "markdown",
   "metadata": {},
   "source": [
    "For the IMDB sentiment classifier accuracy of 85% was achieved, and there were 30 missclassified sentences with 15 false positives and 15 fasle negatives.\n",
    "\n",
    "The main reason for misclassfication might be due to the bag of words model losing the context of sentences and classifying on the basis of the number of negative and positive words. The relative order is quite important, for example for phrases that have two negative words the overall sentiment becomes positive(like \"not bad\") which might be missclassified by bag of words model.\n",
    "\n",
    "A better accuracy can be achieved by training on bigrams and trigrams on the same dataet, which captures the relative ordering and context of the reviews."
   ]
  },
  {
   "cell_type": "code",
   "execution_count": null,
   "metadata": {},
   "outputs": [],
   "source": []
  }
 ],
 "metadata": {
  "colab": {
   "name": "hw2.ipynb",
   "provenance": [],
   "version": "0.3.2"
  },
  "kernelspec": {
   "display_name": "Python 2",
   "language": "python",
   "name": "python2"
  },
  "language_info": {
   "codemirror_mode": {
    "name": "ipython",
    "version": 3
   },
   "file_extension": ".py",
   "mimetype": "text/x-python",
   "name": "python",
   "nbconvert_exporter": "python",
   "pygments_lexer": "ipython3",
   "version": "3.6.7"
  }
 },
 "nbformat": 4,
 "nbformat_minor": 1
}
